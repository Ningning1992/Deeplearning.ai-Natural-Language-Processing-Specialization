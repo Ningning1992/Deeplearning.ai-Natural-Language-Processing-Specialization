{
 "cells": [
  {
   "cell_type": "markdown",
   "source": [
    "# Parts-of-Speech Tagging - Working with tags and Numpy"
   ],
   "metadata": {}
  },
  {
   "cell_type": "markdown",
   "source": [
    "In this lecture notebook you will create a matrix using some tag information and then modify it using different approaches.\n",
    "This will serve as hands-on experience working with Numpy and as an introduction to some elements used for POS tagging."
   ],
   "metadata": {}
  },
  {
   "cell_type": "code",
   "execution_count": 1,
   "source": [
    "import numpy as np\r\n",
    "import pandas as pd"
   ],
   "outputs": [],
   "metadata": {}
  },
  {
   "cell_type": "markdown",
   "source": [
    "### Some information on tags"
   ],
   "metadata": {}
  },
  {
   "cell_type": "markdown",
   "source": [
    "For this notebook you will be using a toy example including only three tags (or states). In a real world application there are many more tags which can be found [here](https://www.ling.upenn.edu/courses/Fall_2003/ling001/penn_treebank_pos.html)."
   ],
   "metadata": {}
  },
  {
   "cell_type": "code",
   "execution_count": 2,
   "source": [
    "# Define tags for Adverb, Noun and To (the preposition) , respectively\r\n",
    "tags = ['RB', 'NN', 'TO']"
   ],
   "outputs": [],
   "metadata": {}
  },
  {
   "cell_type": "markdown",
   "source": [
    "In this week's assignment you will construct some dictionaries that provide useful information of the tags and words you will be working with. \n",
    "\n",
    "One of these dictionaries is the `transition_counts` which counts the number of times a particular tag happened next to another. The keys of this dictionary have the form `(previous_tag, tag)` and the values are the frequency of occurrences.\n",
    "\n",
    "Another one is the `emission_counts` dictionary which will count the number of times a particular pair of `(tag, word)` appeared in the training dataset.\n",
    "\n",
    "In general think of `transition` when working with tags only and of `emission` when working with tags and words.\n",
    "\n",
    "In this notebook you will be looking at the first one:"
   ],
   "metadata": {}
  },
  {
   "cell_type": "code",
   "execution_count": 3,
   "source": [
    "# Define 'transition_counts' dictionary\r\n",
    "# Note: values are the same as the ones in the assignment\r\n",
    "transition_counts = {\r\n",
    "    ('NN', 'NN'): 16241,\r\n",
    "    ('RB', 'RB'): 2263,\r\n",
    "    ('TO', 'TO'): 2,\r\n",
    "    ('NN', 'TO'): 5256,\r\n",
    "    ('RB', 'TO'): 855,\r\n",
    "    ('TO', 'NN'): 734,\r\n",
    "    ('NN', 'RB'): 2431,\r\n",
    "    ('RB', 'NN'): 358,\r\n",
    "    ('TO', 'RB'): 200\r\n",
    "}"
   ],
   "outputs": [],
   "metadata": {}
  },
  {
   "cell_type": "markdown",
   "source": [
    "Notice that there are 9 combinations of the 3 tags used. Each tag can appear after the same tag so you should include those as well.\n",
    "\n",
    "### Using Numpy for matrix creation\n",
    "\n",
    "Now you will create a matrix that includes these frequencies using Numpy arrays:"
   ],
   "metadata": {}
  },
  {
   "cell_type": "code",
   "execution_count": 5,
   "source": [
    "# Store the number of tags in the 'num_tags' variable\r\n",
    "num_tags = len(tags)\r\n",
    "\r\n",
    "# Initialize a 3X3 numpy array with zeros\r\n",
    "transition_matrix = np.zeros((num_tags, num_tags))\r\n",
    "\r\n",
    "# Print matrix\r\n",
    "transition_matrix"
   ],
   "outputs": [
    {
     "output_type": "execute_result",
     "data": {
      "text/plain": [
       "array([[0., 0., 0.],\n",
       "       [0., 0., 0.],\n",
       "       [0., 0., 0.]])"
      ]
     },
     "metadata": {},
     "execution_count": 5
    }
   ],
   "metadata": {}
  },
  {
   "cell_type": "markdown",
   "source": [
    "Visually you can see the matrix has the correct dimensions. Don't forget you can check this too using the `shape` attribute:"
   ],
   "metadata": {}
  },
  {
   "cell_type": "code",
   "execution_count": 6,
   "source": [
    "# Print shape of the matrix\r\n",
    "transition_matrix.shape"
   ],
   "outputs": [
    {
     "output_type": "execute_result",
     "data": {
      "text/plain": [
       "(3, 3)"
      ]
     },
     "metadata": {},
     "execution_count": 6
    }
   ],
   "metadata": {}
  },
  {
   "cell_type": "markdown",
   "source": [
    "Before filling this matrix with the values of the `transition_counts` dictionary you should sort the tags so that their placement in the matrix is consistent:"
   ],
   "metadata": {}
  },
  {
   "cell_type": "code",
   "execution_count": 7,
   "source": [
    "# Create sorted version of the tag's list\r\n",
    "sorted_tags = sorted(tags)\r\n",
    "\r\n",
    "# Print sorted list\r\n",
    "sorted_tags"
   ],
   "outputs": [
    {
     "output_type": "execute_result",
     "data": {
      "text/plain": [
       "['NN', 'RB', 'TO']"
      ]
     },
     "metadata": {},
     "execution_count": 7
    }
   ],
   "metadata": {}
  },
  {
   "cell_type": "markdown",
   "source": [
    "To fill this matrix with the correct values you can use a `double for loop`. You could also use `itertools.product` to one line this double loop:"
   ],
   "metadata": {}
  },
  {
   "cell_type": "code",
   "execution_count": 8,
   "source": [
    "# Loop rows\r\n",
    "for i in range(num_tags):\r\n",
    "    # Loop columns\r\n",
    "    for j in range(num_tags):\r\n",
    "        # Define tag pair\r\n",
    "        tag_tuple = (sorted_tags[i], sorted_tags[j])\r\n",
    "        # Get frequency from transition_counts dict and assign to (i, j) position in the matrix\r\n",
    "        transition_matrix[i, j] = transition_counts.get(tag_tuple)\r\n",
    "\r\n",
    "# Print matrix\r\n",
    "transition_matrix"
   ],
   "outputs": [
    {
     "output_type": "execute_result",
     "data": {
      "text/plain": [
       "array([[1.6241e+04, 2.4310e+03, 5.2560e+03],\n",
       "       [3.5800e+02, 2.2630e+03, 8.5500e+02],\n",
       "       [7.3400e+02, 2.0000e+02, 2.0000e+00]])"
      ]
     },
     "metadata": {},
     "execution_count": 8
    }
   ],
   "metadata": {}
  },
  {
   "cell_type": "markdown",
   "source": [
    "Looks like this worked fine. However the matrix can be hard to read as `Numpy` is more about efficiency, rather than presenting values in a pretty format. \n",
    "\n",
    "For this you can use a `Pandas DataFrame`. In particular, a function that takes the matrix as input and prints out a pretty version of it will be very useful:"
   ],
   "metadata": {}
  },
  {
   "cell_type": "code",
   "execution_count": 9,
   "source": [
    "# Define 'print_matrix' function\r\n",
    "def print_matrix(matrix):\r\n",
    "    print(pd.DataFrame(matrix, index=sorted_tags, columns=sorted_tags))"
   ],
   "outputs": [],
   "metadata": {}
  },
  {
   "cell_type": "markdown",
   "source": [
    "Notice that the tags are not a parameter of the function. This is because the `sorted_tags` list will not change in the rest of the notebook so it is safe to use the variable previously declared. To test this function simply run: "
   ],
   "metadata": {}
  },
  {
   "cell_type": "code",
   "execution_count": 11,
   "source": [
    "# Print the 'transition_matrix' by calling the 'print_matrix' function\r\n",
    "print_matrix(transition_matrix)"
   ],
   "outputs": [
    {
     "output_type": "stream",
     "name": "stdout",
     "text": [
      "         NN      RB      TO\n",
      "NN  16241.0  2431.0  5256.0\n",
      "RB    358.0  2263.0   855.0\n",
      "TO    734.0   200.0     2.0\n"
     ]
    }
   ],
   "metadata": {}
  },
  {
   "cell_type": "markdown",
   "source": [
    "That is a lot better, isn't it? \n",
    "\n",
    "As you may have already deducted this matrix is not symmetrical."
   ],
   "metadata": {}
  },
  {
   "cell_type": "markdown",
   "source": [
    "### Working with Numpy for matrix manipulation"
   ],
   "metadata": {}
  },
  {
   "cell_type": "markdown",
   "source": [
    "Now that you got the matrix set up it is time to see how a matrix can be manipulated after being created. \n",
    "\n",
    "`Numpy` allows vectorized operations which means that operations that would normally include looping over the matrix can be done in a simpler manner. This is consistent with treating numpy arrays as matrices since you get support for common matrix operations. You can do matrix multiplication, scalar multiplication, vector addition and many more!\n",
    "\n",
    "For instance try scaling each value in the matrix by a factor of $\\frac{1}{10}$. Normally you would loop over each value in the matrix, updating them accordingly. But in Numpy this is as easy as dividing the whole matrix by 10:"
   ],
   "metadata": {}
  },
  {
   "cell_type": "code",
   "execution_count": 12,
   "source": [
    "# Scale transition matrix\r\n",
    "transition_matrix = transition_matrix/10\r\n",
    "\r\n",
    "# Print scaled matrix\r\n",
    "print_matrix(transition_matrix)"
   ],
   "outputs": [
    {
     "output_type": "stream",
     "name": "stdout",
     "text": [
      "        NN     RB     TO\n",
      "NN  1624.1  243.1  525.6\n",
      "RB    35.8  226.3   85.5\n",
      "TO    73.4   20.0    0.2\n"
     ]
    }
   ],
   "metadata": {}
  },
  {
   "cell_type": "markdown",
   "source": [
    "Another trickier example is to normalize each row so that each value is equal to $\\frac{value}{sum \\,of \\,row}$.\n",
    "\n",
    "This can be easily done with vectorization. First you will compute the sum of each row:"
   ],
   "metadata": {}
  },
  {
   "cell_type": "code",
   "execution_count": 13,
   "source": [
    "# Compute sum of row for each row\r\n",
    "rows_sum = transition_matrix.sum(axis=1, keepdims=True)\r\n",
    "\r\n",
    "# Print sum of rows\r\n",
    "rows_sum"
   ],
   "outputs": [
    {
     "output_type": "execute_result",
     "data": {
      "text/plain": [
       "array([[2392.8],\n",
       "       [ 347.6],\n",
       "       [  93.6]])"
      ]
     },
     "metadata": {},
     "execution_count": 13
    }
   ],
   "metadata": {}
  },
  {
   "cell_type": "markdown",
   "source": [
    "Notice that the `sum()` method was used. This method does exactly what its name implies. Since the sum of the rows was desired the axis was set to `1`. In Numpy `axis=1` refers to the columns so the sum is done by summing each column of a particular row, for each row. \n",
    "\n",
    "Also the `keepdims` parameter was set to `True` so the resulting array had shape `(3, 1)` rather than `(3,)`. This was done so that the axes were consistent with the desired operation. \n",
    "\n",
    "When working with Numpy, always remember to check the shape of the arrays you are working with, many unexpected errors happen because of axes not being consistent. The `shape` attribute is your friend for these cases."
   ],
   "metadata": {}
  },
  {
   "cell_type": "code",
   "execution_count": 14,
   "source": [
    "# Normalize transition matrix\r\n",
    "transition_matrix = transition_matrix / rows_sum\r\n",
    "\r\n",
    "# Print normalized matrix\r\n",
    "print_matrix(transition_matrix)"
   ],
   "outputs": [
    {
     "output_type": "stream",
     "name": "stdout",
     "text": [
      "          NN        RB        TO\n",
      "NN  0.678745  0.101596  0.219659\n",
      "RB  0.102992  0.651036  0.245972\n",
      "TO  0.784188  0.213675  0.002137\n"
     ]
    }
   ],
   "metadata": {}
  },
  {
   "cell_type": "markdown",
   "source": [
    "Notice that the normalization that was carried out forces the sum of each row to be equal to `1`. You can easily check this by running the `sum` method on the resulting matrix:"
   ],
   "metadata": {}
  },
  {
   "cell_type": "code",
   "execution_count": 15,
   "source": [
    "transition_matrix.sum(axis=1, keepdims=True)"
   ],
   "outputs": [
    {
     "output_type": "execute_result",
     "data": {
      "text/plain": [
       "array([[1.],\n",
       "       [1.],\n",
       "       [1.]])"
      ]
     },
     "metadata": {},
     "execution_count": 15
    }
   ],
   "metadata": {}
  },
  {
   "cell_type": "markdown",
   "source": [
    "For a final example you are asked to modify each value of the diagonal of the matrix so that they are equal to the `log` of the sum of the current row plus the current value. When doing mathematical operations like this one don't forget to import the `math` module. \n",
    "\n",
    "This can be done using a standard `for loop` or `vectorization`. You'll see both in action:"
   ],
   "metadata": {}
  },
  {
   "cell_type": "code",
   "execution_count": 16,
   "source": [
    "import math\r\n",
    "\r\n",
    "# Copy transition matrix for for-loop example\r\n",
    "t_matrix_for = np.copy(transition_matrix)\r\n",
    "\r\n",
    "# Copy transition matrix for numpy functions example\r\n",
    "t_matrix_np = np.copy(transition_matrix)"
   ],
   "outputs": [],
   "metadata": {}
  },
  {
   "cell_type": "markdown",
   "source": [
    "#### Using a for-loop"
   ],
   "metadata": {}
  },
  {
   "cell_type": "code",
   "execution_count": 17,
   "source": [
    "# Loop values in the diagonal\r\n",
    "for i in range(num_tags):\r\n",
    "    t_matrix_for[i, i] =  t_matrix_for[i, i] + math.log(rows_sum[i])\r\n",
    "\r\n",
    "# Print matrix\r\n",
    "print_matrix(t_matrix_for)"
   ],
   "outputs": [
    {
     "output_type": "stream",
     "name": "stdout",
     "text": [
      "          NN        RB        TO\n",
      "NN  8.458964  0.101596  0.219659\n",
      "RB  0.102992  6.502088  0.245972\n",
      "TO  0.784188  0.213675  4.541167\n"
     ]
    }
   ],
   "metadata": {}
  },
  {
   "cell_type": "markdown",
   "source": [
    "#### Using vectorization"
   ],
   "metadata": {}
  },
  {
   "cell_type": "code",
   "execution_count": 18,
   "source": [
    "# Save diagonal in a numpy array\r\n",
    "d = np.diag(t_matrix_np)\r\n",
    "\r\n",
    "# Print shape of diagonal\r\n",
    "d.shape"
   ],
   "outputs": [
    {
     "output_type": "execute_result",
     "data": {
      "text/plain": [
       "(3,)"
      ]
     },
     "metadata": {},
     "execution_count": 18
    }
   ],
   "metadata": {}
  },
  {
   "cell_type": "markdown",
   "source": [
    "You can save the diagonal in a numpy array using Numpy's `diag()` function. Notice that this array has shape `(3,)` so it is inconsistent with the dimensions of the `rows_sum` array which are `(3, 1)`. You'll have to reshape before moving forward. For this you can use Numpy's `reshape()` function, specifying the desired shape in a tuple:"
   ],
   "metadata": {}
  },
  {
   "cell_type": "code",
   "execution_count": 19,
   "source": [
    "# Reshape diagonal numpy array\r\n",
    "d = np.reshape(d, (3,1))\r\n",
    "\r\n",
    "# Print shape of diagonal\r\n",
    "d.shape"
   ],
   "outputs": [
    {
     "output_type": "execute_result",
     "data": {
      "text/plain": [
       "(3, 1)"
      ]
     },
     "metadata": {},
     "execution_count": 19
    }
   ],
   "metadata": {}
  },
  {
   "cell_type": "markdown",
   "source": [
    "Now that the diagonal has the correct shape you can do the vectorized operation by applying the `math.log()` function to the `rows_sum` array and adding the diagonal. \n",
    "\n",
    "To apply a function to each element of a numpy array use Numpy's `vectorize()` function providing the desired function as a parameter. This function returns a vectorized function that accepts a numpy array as a parameter. \n",
    "\n",
    "To update the original matrix you can use Numpy's `fill_diagonal()` function."
   ],
   "metadata": {}
  },
  {
   "cell_type": "code",
   "execution_count": 20,
   "source": [
    "# Perform the vectorized operation\r\n",
    "d = d + np.vectorize(math.log)(rows_sum)\r\n",
    "\r\n",
    "# Use numpy's 'fill_diagonal' function to update the diagonal\r\n",
    "np.fill_diagonal(t_matrix_np, d)\r\n",
    "\r\n",
    "# Print the matrix\r\n",
    "print_matrix(t_matrix_np)"
   ],
   "outputs": [
    {
     "output_type": "stream",
     "name": "stdout",
     "text": [
      "          NN        RB        TO\n",
      "NN  8.458964  0.101596  0.219659\n",
      "RB  0.102992  6.502088  0.245972\n",
      "TO  0.784188  0.213675  4.541167\n"
     ]
    }
   ],
   "metadata": {}
  },
  {
   "cell_type": "markdown",
   "source": [
    "To perform a sanity check that both methods yield the same result you can compare both matrices. Notice that this operation is also vectorized so you will get the equality check for each element in both matrices:"
   ],
   "metadata": {}
  },
  {
   "cell_type": "code",
   "execution_count": 21,
   "source": [
    "# Check for equality\r\n",
    "t_matrix_for == t_matrix_np"
   ],
   "outputs": [
    {
     "output_type": "execute_result",
     "data": {
      "text/plain": [
       "array([[ True,  True,  True],\n",
       "       [ True,  True,  True],\n",
       "       [ True,  True,  True]])"
      ]
     },
     "metadata": {},
     "execution_count": 21
    }
   ],
   "metadata": {}
  },
  {
   "cell_type": "markdown",
   "source": [
    "**Congratulations on finishing this lecture notebook!** Now you should be more familiar with some elements used by a POS tagger such as the `transition_counts` dictionary and with working with Numpy.\n",
    "\n",
    "**Keep it up!**"
   ],
   "metadata": {}
  }
 ],
 "metadata": {
  "kernelspec": {
   "name": "python3",
   "display_name": "Python 3.9.5 64-bit ('deeplearning': conda)"
  },
  "language_info": {
   "codemirror_mode": {
    "name": "ipython",
    "version": 3
   },
   "file_extension": ".py",
   "mimetype": "text/x-python",
   "name": "python",
   "nbconvert_exporter": "python",
   "pygments_lexer": "ipython3",
   "version": "3.9.5"
  },
  "interpreter": {
   "hash": "7bd95233e9c04de4911b7b9dc4f003d669080eb92d324c4c61e0dea7467d7a1b"
  }
 },
 "nbformat": 4,
 "nbformat_minor": 4
}