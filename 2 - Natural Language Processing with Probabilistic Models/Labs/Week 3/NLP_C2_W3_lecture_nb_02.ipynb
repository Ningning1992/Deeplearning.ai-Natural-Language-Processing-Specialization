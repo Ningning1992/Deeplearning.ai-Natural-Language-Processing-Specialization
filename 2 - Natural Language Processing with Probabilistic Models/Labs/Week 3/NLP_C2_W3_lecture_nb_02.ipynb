{
 "cells": [
  {
   "cell_type": "markdown",
   "source": [
    "<a name=\"building-language-model\"></a>\n",
    "# Building the language model\n",
    "\n",
    "<a name=\"count-matrix\"></a>\n",
    "### Count matrix\n",
    "\n",
    "To calculate the n-gram probability, you will need to count frequencies of n-grams and n-gram prefixes in the training dataset. In some of the code assignment exercises, you will store the n-gram frequencies in a dictionary. \n",
    "\n",
    "In other parts of the assignment, you will build a count matrix that keeps counts of (n-1)-gram prefix followed by all possible last words in the vocabulary.\n",
    "\n",
    "The following code shows how to check, retrieve and update counts of n-grams in the word count dictionary."
   ],
   "metadata": {}
  },
  {
   "cell_type": "code",
   "execution_count": 1,
   "source": [
    "# manipulate n_gram count dictionary\r\n",
    "\r\n",
    "n_gram_counts = {\r\n",
    "    ('i', 'am', 'happy'): 2,\r\n",
    "    ('am', 'happy', 'because'): 1}\r\n",
    "\r\n",
    "# get count for an n-gram tuple\r\n",
    "print(f\"count of n-gram {('i', 'am', 'happy')}: {n_gram_counts[('i', 'am', 'happy')]}\")\r\n",
    "\r\n",
    "# check if n-gram is present in the dictionary\r\n",
    "if ('i', 'am', 'learning') in n_gram_counts:\r\n",
    "    print(f\"n-gram {('i', 'am', 'learning')} found\")\r\n",
    "else:\r\n",
    "    print(f\"n-gram {('i', 'am', 'learning')} missing\")\r\n",
    "\r\n",
    "# update the count in the word count dictionary\r\n",
    "n_gram_counts[('i', 'am', 'learning')] = 1\r\n",
    "if ('i', 'am', 'learning') in n_gram_counts:\r\n",
    "    print(f\"n-gram {('i', 'am', 'learning')} found\")\r\n",
    "else:\r\n",
    "    print(f\"n-gram {('i', 'am', 'learning')} missing\")\r\n"
   ],
   "outputs": [
    {
     "output_type": "stream",
     "name": "stdout",
     "text": [
      "count of n-gram ('i', 'am', 'happy'): 2\n",
      "n-gram ('i', 'am', 'learning') missing\n",
      "n-gram ('i', 'am', 'learning') found\n"
     ]
    }
   ],
   "metadata": {}
  },
  {
   "cell_type": "markdown",
   "source": [
    "The next code snippet shows how to merge two tuples in Python. That will be handy when creating the n-gram from the prefix and the last word."
   ],
   "metadata": {}
  },
  {
   "cell_type": "code",
   "execution_count": 2,
   "source": [
    "# concatenate tuple for prefix and tuple with the last word to create the n_gram\r\n",
    "prefix = ('i', 'am', 'happy')\r\n",
    "word = 'because'\r\n",
    "\r\n",
    "# note here the syntax for creating a tuple for a single word\r\n",
    "n_gram = prefix + (word,)\r\n",
    "print(n_gram)"
   ],
   "outputs": [
    {
     "output_type": "stream",
     "name": "stdout",
     "text": [
      "('i', 'am', 'happy', 'because')\n"
     ]
    }
   ],
   "metadata": {}
  },
  {
   "cell_type": "markdown",
   "source": [
    "In the lecture, you've seen that the count matrix could be made in a single pass through the corpus. Here is one approach to do that."
   ],
   "metadata": {}
  },
  {
   "cell_type": "code",
   "execution_count": 3,
   "source": [
    "import numpy as np\r\n",
    "import pandas as pd\r\n",
    "from collections import defaultdict\r\n",
    "def single_pass_trigram_count_matrix(corpus):\r\n",
    "    \"\"\"\r\n",
    "    Creates the trigram count matrix from the input corpus in a single pass through the corpus.\r\n",
    "    \r\n",
    "    Args:\r\n",
    "        corpus: Pre-processed and tokenized corpus. \r\n",
    "    \r\n",
    "    Returns:\r\n",
    "        bigrams: list of all bigram prefixes, row index\r\n",
    "        vocabulary: list of all found words, the column index\r\n",
    "        count_matrix: pandas dataframe with bigram prefixes as rows, \r\n",
    "                      vocabulary words as columns \r\n",
    "                      and the counts of the bigram/word combinations (i.e. trigrams) as values\r\n",
    "    \"\"\"\r\n",
    "    bigrams = []\r\n",
    "    vocabulary = []\r\n",
    "    count_matrix_dict = defaultdict(dict)\r\n",
    "    \r\n",
    "    # go through the corpus once with a sliding window\r\n",
    "    for i in range(len(corpus) - 3 + 1):\r\n",
    "        # the sliding window starts at position i and contains 3 words\r\n",
    "        trigram = tuple(corpus[i : i + 3])\r\n",
    "        \r\n",
    "        bigram = trigram[0 : -1]\r\n",
    "        if not bigram in bigrams:\r\n",
    "            bigrams.append(bigram)        \r\n",
    "        \r\n",
    "        last_word = trigram[-1]\r\n",
    "        if not last_word in vocabulary:\r\n",
    "            vocabulary.append(last_word)\r\n",
    "        \r\n",
    "        if (bigram,last_word) not in count_matrix_dict:\r\n",
    "            count_matrix_dict[bigram,last_word] = 0\r\n",
    "            \r\n",
    "        count_matrix_dict[bigram,last_word] += 1\r\n",
    "    \r\n",
    "    # convert the count_matrix to np.array to fill in the blanks\r\n",
    "    count_matrix = np.zeros((len(bigrams), len(vocabulary)))\r\n",
    "    for trigram_key, trigam_count in count_matrix_dict.items():\r\n",
    "        count_matrix[bigrams.index(trigram_key[0]), \\\r\n",
    "                     vocabulary.index(trigram_key[1])]\\\r\n",
    "        = trigam_count\r\n",
    "    \r\n",
    "    # np.array to pandas dataframe conversion\r\n",
    "    count_matrix = pd.DataFrame(count_matrix, index=bigrams, columns=vocabulary)\r\n",
    "    return bigrams, vocabulary, count_matrix\r\n",
    "\r\n",
    "corpus = ['i', 'am', 'happy', 'because', 'i', 'am', 'learning', '.']\r\n",
    "\r\n",
    "bigrams, vocabulary, count_matrix = single_pass_trigram_count_matrix(corpus)\r\n",
    "\r\n",
    "print(count_matrix)\r\n"
   ],
   "outputs": [
    {
     "output_type": "stream",
     "name": "stdout",
     "text": [
      "                  happy  because    i   am  learning    .\n",
      "(i, am)             1.0      0.0  0.0  0.0       1.0  0.0\n",
      "(am, happy)         0.0      1.0  0.0  0.0       0.0  0.0\n",
      "(happy, because)    0.0      0.0  1.0  0.0       0.0  0.0\n",
      "(because, i)        0.0      0.0  0.0  1.0       0.0  0.0\n",
      "(am, learning)      0.0      0.0  0.0  0.0       0.0  1.0\n"
     ]
    }
   ],
   "metadata": {}
  },
  {
   "cell_type": "markdown",
   "source": [
    "<a name=\"probability-matrix\"></a>\n",
    "### Probability matrix\n",
    "The next step is to build a probability matrix from the count matrix. \n",
    "\n",
    "You can use an object dataframe from library pandas and its methods [sum](https://pandas.pydata.org/pandas-docs/stable/reference/api/pandas.DataFrame.sum.html?highlight=sum#pandas.DataFrame.sum) and [div](https://pandas.pydata.org/pandas-docs/stable/reference/api/pandas.DataFrame.div.html) to normalize the cell counts with the sum of the respective rows. "
   ],
   "metadata": {}
  },
  {
   "cell_type": "code",
   "execution_count": 4,
   "source": [
    "# create the probability matrix from the count matrix\r\n",
    "row_sums = count_matrix.sum(axis=1)\r\n",
    "# delete each row by its sum\r\n",
    "prob_matrix = count_matrix.div(row_sums, axis=0)\r\n",
    "\r\n",
    "print(prob_matrix)"
   ],
   "outputs": [
    {
     "output_type": "stream",
     "name": "stdout",
     "text": [
      "                  happy  because    i   am  learning    .\n",
      "(i, am)             0.5      0.0  0.0  0.0       0.5  0.0\n",
      "(am, happy)         0.0      1.0  0.0  0.0       0.0  0.0\n",
      "(happy, because)    0.0      0.0  1.0  0.0       0.0  0.0\n",
      "(because, i)        0.0      0.0  0.0  1.0       0.0  0.0\n",
      "(am, learning)      0.0      0.0  0.0  0.0       0.0  1.0\n"
     ]
    }
   ],
   "metadata": {}
  },
  {
   "cell_type": "markdown",
   "source": [
    "The probability matrix now helps you to find a probability of an input trigram. "
   ],
   "metadata": {}
  },
  {
   "cell_type": "code",
   "execution_count": 5,
   "source": [
    "# find the probability of a trigram in the probability matrix\r\n",
    "trigram = ('i', 'am', 'happy')\r\n",
    "\r\n",
    "# find the prefix bigram \r\n",
    "bigram = trigram[:-1]\r\n",
    "print(f'bigram: {bigram}')\r\n",
    "\r\n",
    "# find the last word of the trigram\r\n",
    "word = trigram[-1]\r\n",
    "print(f'word: {word}')\r\n",
    "\r\n",
    "# we are using the pandas dataframes here, column with vocabulary word comes first, row with the prefix bigram second\r\n",
    "trigram_probability = prob_matrix[word][bigram]\r\n",
    "print(f'trigram_probability: {trigram_probability}')"
   ],
   "outputs": [
    {
     "output_type": "stream",
     "name": "stdout",
     "text": [
      "bigram: ('i', 'am')\n",
      "word: happy\n",
      "trigram_probability: 0.5\n"
     ]
    }
   ],
   "metadata": {}
  },
  {
   "cell_type": "markdown",
   "source": [
    "In the code assignment, you will be searching for the most probable words starting with a prefix. You can use the method [str.startswith](https://docs.python.org/3/library/stdtypes.html#str.startswith) to test if a word starts with a prefix. \n",
    "\n",
    "Here is a code snippet showing how to use this method."
   ],
   "metadata": {}
  },
  {
   "cell_type": "code",
   "execution_count": 6,
   "source": [
    "# lists all words in vocabulary starting with a given prefix\r\n",
    "vocabulary = ['i', 'am', 'happy', 'because', 'learning', '.', 'have', 'you', 'seen','it', '?']\r\n",
    "starts_with = 'ha'\r\n",
    "\r\n",
    "print(f'words in vocabulary starting with prefix: {starts_with}\\n')\r\n",
    "for word in vocabulary:\r\n",
    "    if word.startswith(starts_with):\r\n",
    "        print(word)"
   ],
   "outputs": [
    {
     "output_type": "stream",
     "name": "stdout",
     "text": [
      "words in vocabulary starting with prefix: ha\n",
      "\n",
      "happy\n",
      "have\n"
     ]
    }
   ],
   "metadata": {}
  },
  {
   "cell_type": "markdown",
   "source": [
    "<a name=\"language-model-evaluation\"></a>\n",
    "## Language model evaluation\n",
    "<a name=\"train-validation-test-split\"></a>\n",
    "### Train/validation/test split\n",
    "In the videos, you saw that to evaluate language models, you need to keep some of the corpus data for validation and testing.\n",
    "\n",
    "The choice of the test and validation data should correspond as much as possible to the distribution of the data coming from the actual application. If nothing but the input corpus is known, then random sampling from the corpus is used to define the test and validation subset. \n",
    "\n",
    "Here is a code similar to what you'll see in the code assignment. The following function allows you to randomly sample the input data and return train/validation/test subsets in a split given by the method parameters."
   ],
   "metadata": {}
  },
  {
   "cell_type": "code",
   "execution_count": 8,
   "source": [
    "# we only need train and validation %, test is the remainder\r\n",
    "import random\r\n",
    "def train_validation_test_split(data, train_percent, validation_percent):\r\n",
    "    \"\"\"\r\n",
    "    Splits the input data to  train/validation/test according to the percentage provided\r\n",
    "    \r\n",
    "    Args:\r\n",
    "        data: Pre-processed and tokenized corpus, i.e. list of sentences.\r\n",
    "        train_percent: integer 0-100, defines the portion of input corpus allocated for training\r\n",
    "        validation_percent: integer 0-100, defines the portion of input corpus allocated for validation\r\n",
    "        \r\n",
    "        Note: train_percent + validation_percent need to be <=100\r\n",
    "              the reminder to 100 is allocated for the test set\r\n",
    "    \r\n",
    "    Returns:\r\n",
    "        train_data: list of sentences, the training part of the corpus\r\n",
    "        validation_data: list of sentences, the validation part of the corpus\r\n",
    "        test_data: list of sentences, the test part of the corpus\r\n",
    "    \"\"\"\r\n",
    "    # fixed seed here for reproducibility\r\n",
    "    random.seed(87)\r\n",
    "    \r\n",
    "    # reshuffle all input sentences\r\n",
    "    random.shuffle(data)\r\n",
    "\r\n",
    "    train_size = int(len(data) * train_percent / 100)\r\n",
    "    train_data = data[0:train_size]\r\n",
    "    \r\n",
    "    validation_size = int(len(data) * validation_percent / 100)\r\n",
    "    validation_data = data[train_size:train_size + validation_size]\r\n",
    "    \r\n",
    "    test_data = data[train_size + validation_size:]\r\n",
    "    \r\n",
    "    return train_data, validation_data, test_data\r\n",
    "\r\n",
    "data = [x for x in range (0, 100)]\r\n",
    "\r\n",
    "train_data, validation_data, test_data = train_validation_test_split(data, 80, 10)\r\n",
    "print(\"split 80/10/10:\\n\",f\"train data:{train_data}\\n\", f\"validation data:{validation_data}\\n\", \r\n",
    "      f\"test data:{test_data}\\n\")\r\n",
    "\r\n",
    "train_data, validation_data, test_data = train_validation_test_split(data, 98, 1)\r\n",
    "print(\"split 98/1/1:\\n\",f\"train data:{train_data}\\n\", f\"validation data:{validation_data}\\n\", \r\n",
    "      f\"test data:{test_data}\\n\")"
   ],
   "outputs": [
    {
     "output_type": "stream",
     "name": "stdout",
     "text": [
      "split 80/10/10:\n",
      " train data:[28, 76, 5, 0, 62, 29, 54, 95, 88, 58, 4, 22, 92, 14, 50, 77, 47, 33, 75, 68, 56, 74, 43, 80, 83, 84, 73, 93, 66, 87, 9, 91, 64, 79, 20, 51, 17, 27, 12, 31, 67, 81, 7, 34, 45, 72, 38, 30, 16, 60, 40, 86, 48, 21, 70, 59, 6, 19, 2, 99, 37, 36, 52, 61, 97, 44, 26, 57, 89, 55, 53, 85, 3, 39, 10, 71, 23, 32, 25, 8]\n",
      " validation data:[78, 65, 63, 11, 49, 98, 1, 46, 15, 41]\n",
      " test data:[90, 96, 82, 42, 35, 13, 69, 24, 94, 18]\n",
      "\n",
      "split 98/1/1:\n",
      " train data:[66, 23, 29, 28, 52, 87, 70, 13, 15, 2, 62, 43, 82, 50, 40, 32, 30, 79, 71, 89, 6, 10, 34, 78, 11, 49, 39, 42, 26, 46, 58, 96, 97, 8, 56, 86, 33, 93, 92, 91, 57, 65, 95, 20, 72, 3, 12, 9, 47, 37, 67, 1, 16, 74, 53, 99, 54, 68, 5, 18, 27, 17, 48, 36, 24, 45, 73, 19, 41, 59, 21, 98, 0, 31, 4, 85, 80, 64, 84, 88, 25, 44, 61, 22, 60, 94, 76, 38, 77, 81, 90, 69, 63, 7, 51, 14, 55, 83]\n",
      " validation data:[35]\n",
      " test data:[75]\n",
      "\n"
     ]
    }
   ],
   "metadata": {}
  },
  {
   "cell_type": "markdown",
   "source": [
    "<a name=\"perplexity\"></a>\n",
    "### Perplexity\n",
    "\n",
    "In order to implement the perplexity formula, you'll need to know how to implement m-th order root of a variable.\n",
    "\n",
    "\\begin{equation*}\n",
    "PP(W)=\\sqrt[M]{\\prod_{i=1}^{m}{\\frac{1}{P(w_i|w_{i-1})}}}\n",
    "\\end{equation*}\n",
    "\n",
    "Remember from calculus:\n",
    "\n",
    "\\begin{equation*}\n",
    "\\sqrt[M]{\\frac{1}{x}} = x^{-\\frac{1}{M}}\n",
    "\\end{equation*}\n",
    "\n",
    "Here is a code that will help you with the formula."
   ],
   "metadata": {}
  },
  {
   "cell_type": "code",
   "execution_count": 8,
   "source": [
    "# to calculate the exponent, use the following syntax\r\n",
    "p = 10 ** (-250)\r\n",
    "M = 100\r\n",
    "perplexity = p ** (-1 / M)\r\n",
    "print(perplexity)"
   ],
   "outputs": [
    {
     "output_type": "stream",
     "name": "stdout",
     "text": [
      "316.22776601683796\n"
     ]
    }
   ],
   "metadata": {}
  },
  {
   "cell_type": "markdown",
   "source": [
    "That's all for the lab for \"N-gram language model\" lesson of week 3."
   ],
   "metadata": {}
  },
  {
   "cell_type": "code",
   "execution_count": null,
   "source": [],
   "outputs": [],
   "metadata": {}
  }
 ],
 "metadata": {
  "kernelspec": {
   "name": "python3",
   "display_name": "Python 3.9.5 64-bit ('deeplearning': conda)"
  },
  "language_info": {
   "codemirror_mode": {
    "name": "ipython",
    "version": 3
   },
   "file_extension": ".py",
   "mimetype": "text/x-python",
   "name": "python",
   "nbconvert_exporter": "python",
   "pygments_lexer": "ipython3",
   "version": "3.9.5"
  },
  "interpreter": {
   "hash": "7bd95233e9c04de4911b7b9dc4f003d669080eb92d324c4c61e0dea7467d7a1b"
  }
 },
 "nbformat": 4,
 "nbformat_minor": 4
}