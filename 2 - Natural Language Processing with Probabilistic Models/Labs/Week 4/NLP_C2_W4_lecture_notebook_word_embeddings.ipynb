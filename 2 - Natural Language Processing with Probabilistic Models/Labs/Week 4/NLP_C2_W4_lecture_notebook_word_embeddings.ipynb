{
 "cells": [
  {
   "cell_type": "markdown",
   "source": [
    "# Word Embeddings: Hands On\n",
    "\n",
    "In previous lecture notebooks you saw all the steps needed to train the CBOW model. This notebook will walk you through how to extract the word embedding vectors from a model.\n",
    "\n",
    "Let's dive into it!"
   ],
   "metadata": {}
  },
  {
   "cell_type": "code",
   "execution_count": 1,
   "source": [
    "import numpy as np\r\n",
    "from utils2 import get_dict"
   ],
   "outputs": [],
   "metadata": {}
  },
  {
   "cell_type": "markdown",
   "source": [
    "Before moving on, you will be provided with some variables needed for further procedures, which should be familiar by now. Also a trained CBOW model will be simulated, the corresponding weights and biases are provided: "
   ],
   "metadata": {}
  },
  {
   "cell_type": "code",
   "execution_count": 2,
   "source": [
    "# Define the tokenized version of the corpus\r\n",
    "words = ['i', 'am', 'happy', 'because', 'i', 'am', 'learning']\r\n",
    "\r\n",
    "# Define V. Remember this is the size of the vocabulary\r\n",
    "V = 5\r\n",
    "\r\n",
    "# Get 'word2Ind' and 'Ind2word' dictionaries for the tokenized corpus\r\n",
    "word2Ind, Ind2word = get_dict(words)\r\n",
    "\r\n",
    "\r\n",
    "# Define first matrix of weights\r\n",
    "W1 = np.array([[ 0.41687358,  0.08854191, -0.23495225,  0.28320538,  0.41800106],\r\n",
    "               [ 0.32735501,  0.22795148, -0.23951958,  0.4117634 , -0.23924344],\r\n",
    "               [ 0.26637602, -0.23846886, -0.37770863, -0.11399446,  0.34008124]])\r\n",
    "\r\n",
    "# Define second matrix of weights\r\n",
    "W2 = np.array([[-0.22182064, -0.43008631,  0.13310965],\r\n",
    "               [ 0.08476603,  0.08123194,  0.1772054 ],\r\n",
    "               [ 0.1871551 , -0.06107263, -0.1790735 ],\r\n",
    "               [ 0.07055222, -0.02015138,  0.36107434],\r\n",
    "               [ 0.33480474, -0.39423389, -0.43959196]])\r\n",
    "\r\n",
    "# Define first vector of biases\r\n",
    "b1 = np.array([[ 0.09688219],\r\n",
    "               [ 0.29239497],\r\n",
    "               [-0.27364426]])\r\n",
    "\r\n",
    "# Define second vector of biases\r\n",
    "b2 = np.array([[ 0.0352008 ],\r\n",
    "               [-0.36393384],\r\n",
    "               [-0.12775555],\r\n",
    "               [-0.34802326],\r\n",
    "               [-0.07017815]])"
   ],
   "outputs": [],
   "metadata": {}
  },
  {
   "cell_type": "markdown",
   "source": [
    "\n",
    "\n",
    "## Extracting word embedding vectors\n",
    "\n",
    "Once you have finished training the neural network, you have three options to get word embedding vectors for the words of your vocabulary, based on the weight matrices $\\mathbf{W_1}$ and/or $\\mathbf{W_2}$.\n",
    "\n",
    "### Option 1: extract embedding vectors from $\\mathbf{W_1}$\n",
    "\n",
    "The first option is to take the columns of $\\mathbf{W_1}$ as the embedding vectors of the words of the vocabulary, using the same order of the words as for the input and output vectors.\n",
    "\n",
    "> Note: in this practice notebooks the values of the word embedding vectors are meaningless after a single iteration with just one training example, but here's how you would proceed after the training process is complete.\n",
    "\n",
    "For example $\\mathbf{W_1}$ is this matrix:"
   ],
   "metadata": {}
  },
  {
   "cell_type": "code",
   "execution_count": 3,
   "source": [
    "# Print W1\r\n",
    "W1"
   ],
   "outputs": [
    {
     "output_type": "execute_result",
     "data": {
      "text/plain": [
       "array([[ 0.41687358,  0.08854191, -0.23495225,  0.28320538,  0.41800106],\n",
       "       [ 0.32735501,  0.22795148, -0.23951958,  0.4117634 , -0.23924344],\n",
       "       [ 0.26637602, -0.23846886, -0.37770863, -0.11399446,  0.34008124]])"
      ]
     },
     "metadata": {},
     "execution_count": 3
    }
   ],
   "metadata": {}
  },
  {
   "cell_type": "markdown",
   "source": [
    "The first column, which is a 3-element vector, is the embedding vector of the first word of your vocabulary. The second column is the word embedding vector for the second word, and so on.\n",
    "\n",
    "The first, second, etc. words are ordered as follows."
   ],
   "metadata": {}
  },
  {
   "cell_type": "code",
   "execution_count": 4,
   "source": [
    "# Print corresponding word for each index within vocabulary's range\r\n",
    "for i in range(V):\r\n",
    "    print(Ind2word[i])"
   ],
   "outputs": [
    {
     "output_type": "stream",
     "name": "stdout",
     "text": [
      "am\n",
      "because\n",
      "happy\n",
      "i\n",
      "learning\n"
     ]
    }
   ],
   "metadata": {}
  },
  {
   "cell_type": "markdown",
   "source": [
    "So the word embedding vectors corresponding to each word are:"
   ],
   "metadata": {}
  },
  {
   "cell_type": "code",
   "execution_count": 5,
   "source": [
    "# Loop through each word of the vocabulary\r\n",
    "for word in word2Ind:\r\n",
    "    # Extract the column corresponding to the index of the word in the vocabulary\r\n",
    "    word_embedding_vector = W1[:, word2Ind[word]]\r\n",
    "    # Print word alongside word embedding vector\r\n",
    "    print(f'{word}: {word_embedding_vector}')"
   ],
   "outputs": [
    {
     "output_type": "stream",
     "name": "stdout",
     "text": [
      "am: [0.41687358 0.32735501 0.26637602]\n",
      "because: [ 0.08854191  0.22795148 -0.23846886]\n",
      "happy: [-0.23495225 -0.23951958 -0.37770863]\n",
      "i: [ 0.28320538  0.4117634  -0.11399446]\n",
      "learning: [ 0.41800106 -0.23924344  0.34008124]\n"
     ]
    }
   ],
   "metadata": {}
  },
  {
   "cell_type": "markdown",
   "source": [
    "### Option 2: extract embedding vectors from $\\mathbf{W_2}$"
   ],
   "metadata": {}
  },
  {
   "cell_type": "markdown",
   "source": [
    "The second option is to take $\\mathbf{W_2}$ transposed, and take its columns as the word embedding vectors just like you did for $\\mathbf{W_1}$."
   ],
   "metadata": {}
  },
  {
   "cell_type": "code",
   "execution_count": 6,
   "source": [
    "# Print transposed W2\r\n",
    "W2.T"
   ],
   "outputs": [
    {
     "output_type": "execute_result",
     "data": {
      "text/plain": [
       "array([[-0.22182064,  0.08476603,  0.1871551 ,  0.07055222,  0.33480474],\n",
       "       [-0.43008631,  0.08123194, -0.06107263, -0.02015138, -0.39423389],\n",
       "       [ 0.13310965,  0.1772054 , -0.1790735 ,  0.36107434, -0.43959196]])"
      ]
     },
     "metadata": {},
     "execution_count": 6
    }
   ],
   "metadata": {}
  },
  {
   "cell_type": "code",
   "execution_count": 7,
   "source": [
    "# Loop through each word of the vocabulary\r\n",
    "for word in word2Ind:\r\n",
    "    # Extract the column corresponding to the index of the word in the vocabulary\r\n",
    "    word_embedding_vector = W2.T[:, word2Ind[word]]\r\n",
    "    # Print word alongside word embedding vector\r\n",
    "    print(f'{word}: {word_embedding_vector}')"
   ],
   "outputs": [
    {
     "output_type": "stream",
     "name": "stdout",
     "text": [
      "am: [-0.22182064 -0.43008631  0.13310965]\n",
      "because: [0.08476603 0.08123194 0.1772054 ]\n",
      "happy: [ 0.1871551  -0.06107263 -0.1790735 ]\n",
      "i: [ 0.07055222 -0.02015138  0.36107434]\n",
      "learning: [ 0.33480474 -0.39423389 -0.43959196]\n"
     ]
    }
   ],
   "metadata": {}
  },
  {
   "cell_type": "markdown",
   "source": [
    "### Option 3: extract embedding vectors from $\\mathbf{W_1}$ and $\\mathbf{W_2}$"
   ],
   "metadata": {}
  },
  {
   "cell_type": "markdown",
   "source": [
    "The third option, which is the one you will use in this week's assignment, uses the average of $\\mathbf{W_1}$ and $\\mathbf{W_2^\\top}$."
   ],
   "metadata": {}
  },
  {
   "cell_type": "markdown",
   "source": [
    "**Calculate the average of $\\mathbf{W_1}$ and $\\mathbf{W_2^\\top}$, and store the result in `W3`.**"
   ],
   "metadata": {}
  },
  {
   "cell_type": "code",
   "execution_count": 8,
   "source": [
    "# Compute W3 as the average of W1 and W2 transposed\r\n",
    "W3 = (W1+W2.T)/2\r\n",
    "\r\n",
    "# Print W3\r\n",
    "W3"
   ],
   "outputs": [
    {
     "output_type": "execute_result",
     "data": {
      "text/plain": [
       "array([[ 0.09752647,  0.08665397, -0.02389858,  0.1768788 ,  0.3764029 ],\n",
       "       [-0.05136565,  0.15459171, -0.15029611,  0.19580601, -0.31673866],\n",
       "       [ 0.19974284, -0.03063173, -0.27839106,  0.12353994, -0.04975536]])"
      ]
     },
     "metadata": {},
     "execution_count": 8
    }
   ],
   "metadata": {}
  },
  {
   "cell_type": "markdown",
   "source": [
    "Expected output:\n",
    "\n",
    "    array([[ 0.09752647,  0.08665397, -0.02389858,  0.1768788 ,  0.3764029 ],\n",
    "           [-0.05136565,  0.15459171, -0.15029611,  0.19580601, -0.31673866],\n",
    "           [ 0.19974284, -0.03063173, -0.27839106,  0.12353994, -0.04975536]])"
   ],
   "metadata": {}
  },
  {
   "cell_type": "markdown",
   "source": [
    "Extracting the word embedding vectors works just like the two previous options, by taking the columns of the matrix you've just created."
   ],
   "metadata": {}
  },
  {
   "cell_type": "code",
   "execution_count": 9,
   "source": [
    "# Loop through each word of the vocabulary\r\n",
    "for word in word2Ind:\r\n",
    "    # Extract the column corresponding to the index of the word in the vocabulary\r\n",
    "    word_embedding_vector = W3[:, word2Ind[word]]\r\n",
    "    # Print word alongside word embedding vector\r\n",
    "    print(f'{word}: {word_embedding_vector}')"
   ],
   "outputs": [
    {
     "output_type": "stream",
     "name": "stdout",
     "text": [
      "am: [ 0.09752647 -0.05136565  0.19974284]\n",
      "because: [ 0.08665397  0.15459171 -0.03063173]\n",
      "happy: [-0.02389858 -0.15029611 -0.27839106]\n",
      "i: [0.1768788  0.19580601 0.12353994]\n",
      "learning: [ 0.3764029  -0.31673866 -0.04975536]\n"
     ]
    }
   ],
   "metadata": {}
  },
  {
   "cell_type": "markdown",
   "source": [
    "Now you know 3 different options to get the word embedding vectors from a model! "
   ],
   "metadata": {}
  },
  {
   "cell_type": "markdown",
   "source": [
    "### How this practice relates to and differs from the upcoming graded assignment\n",
    "\n",
    "- After extracting the word embedding vectors, you will use principal component analysis (PCA) to visualize the vectors, which will enable you to perform an intrinsic evaluation of the quality of the vectors, as explained in the lecture."
   ],
   "metadata": {}
  },
  {
   "cell_type": "markdown",
   "source": [
    "**Congratulations on finishing all lecture notebooks for this week!** \n",
    "\n",
    "You're now ready to take on this week's assignment!\n",
    "\n",
    "**Keep it up!**"
   ],
   "metadata": {}
  }
 ],
 "metadata": {
  "kernelspec": {
   "name": "python3",
   "display_name": "Python 3.9.5 64-bit ('deeplearning': conda)"
  },
  "language_info": {
   "codemirror_mode": {
    "name": "ipython",
    "version": 3
   },
   "file_extension": ".py",
   "mimetype": "text/x-python",
   "name": "python",
   "nbconvert_exporter": "python",
   "pygments_lexer": "ipython3",
   "version": "3.9.5"
  },
  "interpreter": {
   "hash": "7bd95233e9c04de4911b7b9dc4f003d669080eb92d324c4c61e0dea7467d7a1b"
  }
 },
 "nbformat": 4,
 "nbformat_minor": 4
}